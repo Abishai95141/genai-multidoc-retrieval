{
 "cells": [
  {
   "cell_type": "code",
   "execution_count": 1,
   "id": "023638ff",
   "metadata": {
    "height": 47
   },
   "outputs": [],
   "source": [
    "from helper import get_openai_api_key\n",
    "OPENAI_API_KEY = get_openai_api_key()"
   ]
  },
  {
   "cell_type": "code",
   "execution_count": 2,
   "id": "f4390335",
   "metadata": {
    "height": 64
   },
   "outputs": [],
   "source": [
    "import nest_asyncio\n",
    "nest_asyncio.apply()\n"
   ]
  },
  {
   "cell_type": "code",
   "execution_count": 3,
   "id": "81ea8994",
   "metadata": {
    "height": 200
   },
   "outputs": [],
   "source": [
    "urls = [\n",
    "    \"https://openreview.net/pdf?id=l9ICUE43Iq\",\n",
    "    \"https://openreview.net/pdf?id=6eMIzKFOpJ\",\n",
    "    \"https://openreview.net/pdf?id=2togYtQ7Ab\",\n",
    "]\n",
    "\n",
    "papers = [\n",
    "    \"39_CONVERSATIONAL_MEDICAL_AI_R.pdf\",\n",
    "    \"40_Faithfulness_Hallucination_.pdf\",\n",
    "    \"421_Advancing_Healthcare_in_Lo.pdf\",\n",
    "]"
   ]
  },
  {
   "cell_type": "code",
   "execution_count": 4,
   "id": "b807978c",
   "metadata": {
    "height": 149
   },
   "outputs": [
    {
     "name": "stderr",
     "output_type": "stream",
     "text": [
      "Ignoring wrong pointing object 33 0 (offset 0)\n",
      "Ignoring wrong pointing object 35 0 (offset 0)\n"
     ]
    },
    {
     "name": "stdout",
     "output_type": "stream",
     "text": [
      "Getting tools for paper: 39_CONVERSATIONAL_MEDICAL_AI_R.pdf\n",
      "Getting tools for paper: 40_Faithfulness_Hallucination_.pdf\n",
      "Getting tools for paper: 421_Advancing_Healthcare_in_Lo.pdf\n"
     ]
    }
   ],
   "source": [
    "from utils import get_doc_tools\n",
    "from pathlib import Path\n",
    "\n",
    "paper_to_tools_dict = {}\n",
    "for paper in papers:\n",
    "    print(f\"Getting tools for paper: {paper}\")\n",
    "    vector_tool, summary_tool = get_doc_tools(paper, Path(paper).stem)\n",
    "    paper_to_tools_dict[paper] = [vector_tool, summary_tool]"
   ]
  },
  {
   "cell_type": "code",
   "execution_count": 5,
   "id": "f6b508b2",
   "metadata": {
    "height": 30
   },
   "outputs": [],
   "source": [
    "initial_tools = [t for paper in papers for t in paper_to_tools_dict[paper]]"
   ]
  },
  {
   "cell_type": "code",
   "execution_count": 6,
   "id": "d160a3db",
   "metadata": {
    "height": 64
   },
   "outputs": [],
   "source": [
    "from llama_index.llms.openai import OpenAI\n",
    "\n",
    "llm = OpenAI(model=\"gpt-3.5-turbo\")"
   ]
  },
  {
   "cell_type": "code",
   "execution_count": 7,
   "id": "3d37c9ca",
   "metadata": {
    "height": 30
   },
   "outputs": [
    {
     "data": {
      "text/plain": [
       "6"
      ]
     },
     "execution_count": 7,
     "metadata": {},
     "output_type": "execute_result"
    }
   ],
   "source": [
    "len(initial_tools)"
   ]
  },
  {
   "cell_type": "code",
   "execution_count": 8,
   "id": "0a4a14c4",
   "metadata": {
    "height": 166
   },
   "outputs": [],
   "source": [
    "from llama_index.core.agent import FunctionCallingAgentWorker\n",
    "from llama_index.core.agent import AgentRunner\n",
    "\n",
    "agent_worker = FunctionCallingAgentWorker.from_tools(\n",
    "    initial_tools, \n",
    "    llm=llm, \n",
    "    verbose=True\n",
    ")\n",
    "agent = AgentRunner(agent_worker)"
   ]
  },
  {
   "cell_type": "code",
   "execution_count": 9,
   "id": "cac17ef5",
   "metadata": {
    "height": 64
   },
   "outputs": [
    {
     "name": "stdout",
     "output_type": "stream",
     "text": [
      "Added user message to memory: Explain the main approach and method used in the paper 'Faithfulness Hallucination Detection in Healthcare AI' to detect hallucinations in medical AI outputs.\n",
      "=== Calling Function ===\n",
      "Calling function: summary_tool_40_Faithfulness_Hallucination_ with args: {\"input\": \"main approach and method used to detect hallucinations in medical AI outputs in the paper 'Faithfulness Hallucination Detection in Healthcare AI'\"}\n",
      "=== Function Output ===\n",
      "The main approach and method used to detect hallucinations in medical AI outputs in the paper 'Faithfulness Hallucination Detection in Healthcare AI' involve collaborating with clinicians to define hallucination categories, developing data annotation guidelines, and utilizing a web-based user interface for collecting clinically relevant and accurate annotations. Additionally, the approach includes employing both an extraction-based system using Hypercube and an LLM-based system like GPT-4o to detect hallucinations by identifying inconsistencies between original documents and their summaries.\n",
      "=== LLM Response ===\n",
      "The main approach and method used in the paper 'Faithfulness Hallucination Detection in Healthcare AI' to detect hallucinations in medical AI outputs involve collaborating with clinicians to define hallucination categories, developing data annotation guidelines, and utilizing a web-based user interface for collecting clinically relevant and accurate annotations. The approach also includes employing both an extraction-based system using Hypercube and an LLM-based system like GPT-4o to detect hallucinations by identifying inconsistencies between original documents and their summaries.\n"
     ]
    }
   ],
   "source": [
    "response = agent.query(\n",
    "    \"Explain the main approach and method used in the paper 'Faithfulness Hallucination Detection in Healthcare AI' to detect hallucinations in medical AI outputs.\"\n",
    ")"
   ]
  }
 ],
 "metadata": {
  "kernelspec": {
   "display_name": "Python 3 (ipykernel)",
   "language": "python",
   "name": "python3"
  },
  "language_info": {
   "codemirror_mode": {
    "name": "ipython",
    "version": 3
   },
   "file_extension": ".py",
   "mimetype": "text/x-python",
   "name": "python",
   "nbconvert_exporter": "python",
   "pygments_lexer": "ipython3",
   "version": "3.11.9"
  }
 },
 "nbformat": 4,
 "nbformat_minor": 5
}
